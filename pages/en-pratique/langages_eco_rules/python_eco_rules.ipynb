{
 "cells": [
  {
   "cell_type": "markdown",
   "metadata": {},
   "source": [
    "# eco-règles pratiques Python"
   ]
  },
  {
   "cell_type": "markdown",
   "metadata": {},
   "source": [
    "### ECO-REGLE \"+2append\" : Ne pas utiliser `+` pour la concaténation de chaînes dans les boucles\n",
    "❌ Pratique de codage non éco-responsable:"
   ]
  },
  {
   "cell_type": "code",
   "execution_count": null,
   "metadata": {},
   "outputs": [],
   "source": [
    "resultat = \"\"\n",
    "for i in range(6):\n",
    "    resultat += str(i)\n",
    "print(resultat)  # \"012345\""
   ]
  },
  {
   "cell_type": "markdown",
   "metadata": {},
   "source": [
    "✅ Bonne pratique : \n",
    "\n",
    "La méthode ci-avant est inefficace, car chaque `+=` crée une nouvelle chaîne en mémoire, pour un codage plus eco-conçue, utilisez `.join()` qui utilise une structure intermédiaire (une liste) pour stocker les éléments à concaténer, puis assemble tous les éléments en une seule chaîne à la fin de l’opération. Elle évite ainsi de recréer de multiples objets chaîne à chaque itération."
   ]
  },
  {
   "cell_type": "code",
   "execution_count": null,
   "metadata": {},
   "outputs": [],
   "source": [
    "resultat = []  # Utilisation d'une liste\n",
    "for i in range(6):\n",
    "    resultat.append(str(i))\n",
    "print(\"\".join(resultat))"
   ]
  },
  {
   "cell_type": "markdown",
   "metadata": {},
   "source": [
    "### ECO-REGLE \"format2f-strings : Ne pas utiliser `format()` et `%` pour formater les chaînes\n",
    "❌ Pratique de codage non éco-responsable :"
   ]
  },
  {
   "cell_type": "code",
   "execution_count": null,
   "metadata": {},
   "outputs": [],
   "source": [
    "nom = \"kiran\"\n",
    "age = 24\n",
    "print(\"Mon nom est %s et j'ai %d ans.\" % (nom, age))  # Ancienne méthode\n",
    "print(\"Mon nom est {} et j'ai {} ans.\".format(nom, age))  # Méthode légèrement meilleure mais obsolète"
   ]
  },
  {
   "cell_type": "markdown",
   "metadata": {},
   "source": [
    "✅ Bonne pratique : \n",
    "\n",
    "Utiliser Les f-strings qui sont traitées au moment de la compilation, avant même que le code ne soit exécuté, ce qui signifie qu’elles sont plus rapides à évaluer que d’autres méthodes de formatage qui nécessitent un traitement supplémentaire à l’exécution. Par ailleurs, les f-strings rendent le code plus lisible et plus concis, car elles permettent d’intégrer directement des expressions à l’intérieur de la chaîne entre accolades {}, ce qui évite la complexité des autres méthodes comme .format(). Enfin, les f-strings utilise moins de mémoire car elles sont évaluées une seule fois, ce qui signifie qu’il n’y a pas de copie répétée de la chaîne à chaque concaténation, contrairement à l’utilisation de l’opérateur +. Cela permet de réduire l’empreinte mémoire."
   ]
  },
  {
   "cell_type": "code",
   "execution_count": null,
   "metadata": {},
   "outputs": [],
   "source": [
    "print(f\"Mon nom est {nom} et j'ai {age} ans.\")"
   ]
  },
  {
   "cell_type": "markdown",
   "metadata": {},
   "source": [
    "### ECO-REGLE \"unpacking\" : Ne pas utiliser `.split()` plusieurs fois pour extraire des parties d'une chaîne\n",
    "❌ Pratique de codage non éco-responsable :"
   ]
  },
  {
   "cell_type": "code",
   "execution_count": 18,
   "metadata": {},
   "outputs": [
    {
     "name": "stdout",
     "output_type": "stream",
     "text": [
      "nom : kiran - age : 24  - metier : Developer\n"
     ]
    }
   ],
   "source": [
    "data = \"Pierre,20,Informaticien\"\n",
    "nom = data.split(\",\")[0]\n",
    "age = data.split(\",\")[1]\n",
    "metier = data.split(\",\")[2]\n",
    "print (\"nom :\",nom, \"- age :\", age, \" - metier :\", metier)"
   ]
  },
  {
   "cell_type": "markdown",
   "metadata": {},
   "source": [
    "✅ Bonne pratique : \n",
    "\n",
    "Utilisez La technique du déballage (unpacking) en Python qui permet d’affecter plusieurs valeurs à plusieurs variables en une seule ligne. 1️⃣  Meilleures performances : Dans la première version split(\",\") est appelé trois fois, alors qu'avec l’unpacking, split(\",\") est exécuté une seule fois et répartit les valeurs directement dans les variables. 2️⃣ Le code est plus compact et plus lisible : toutes les transformations sont faites en une seule ligne et en un coup d’œil, on comprend que data contient trois éléments (nom, âge, métier)."
   ]
  },
  {
   "cell_type": "code",
   "execution_count": 19,
   "metadata": {},
   "outputs": [
    {
     "name": "stdout",
     "output_type": "stream",
     "text": [
      "nom : kiran - age : 24  - metier : Developer\n"
     ]
    }
   ],
   "source": [
    "nom, age, metier = data.split(\",\")\n",
    "print (\"nom :\",nom, \"- age :\", age, \" - metier :\", metier)"
   ]
  },
  {
   "cell_type": "markdown",
   "metadata": {},
   "source": [
    "### ECO-REGLE \"methodChaining\" : Ne pas utiliser `strip()`, `lower()`, et `replace()` séparément\n",
    "❌ Pratique de codage non éco-responsable :"
   ]
  },
  {
   "cell_type": "code",
   "execution_count": null,
   "metadata": {},
   "outputs": [],
   "source": [
    "texte = \"  Bonjour Pierre  \"\n",
    "nettoye = texte.strip()\n",
    "nettoye = nettoye.lower()\n",
    "nettoye = nettoye.replace(\" \", \"_\")"
   ]
  },
  {
   "cell_type": "markdown",
   "metadata": {},
   "source": [
    "✅ Bonne Pratique : \n",
    "\n",
    "Toujours privilégier le chaînage des méthodes lorsque c’est possible pour un code plus efficace et plus clair. 1️⃣ Cette méthode réalise moins d’affectations intermédiaires : La version ci-dessous effectue toutes les transformations en une seule ligne, sans créer de variables temporaires inutiles alors que La première version recrée la variable nettoye trois fois, ce qui demande plus d’opérations en mémoire. 2️⃣ L'exécution est plus efficace car enchaîner les méthodes (.strip().lower().replace()) optimise l’exécution en une seule passe, réduisant le nombre d’appels et de copies inutiles. 3️⃣ Enfin, le code est plus compact."
   ]
  },
  {
   "cell_type": "code",
   "execution_count": null,
   "metadata": {},
   "outputs": [],
   "source": [
    "nettoye = texte.strip().lower().replace(\" \", \"_\")"
   ]
  },
  {
   "cell_type": "markdown",
   "metadata": {},
   "source": [
    "### ECO-REGLE \"efficientConditionalChecking : Ne pas utiliser `startswith()` ou `endswith()` avec plusieurs conditions OR\n",
    "❌ Pratique de codage non éco-responsable:"
   ]
  },
  {
   "cell_type": "code",
   "execution_count": 1,
   "metadata": {},
   "outputs": [
    {
     "name": "stdout",
     "output_type": "stream",
     "text": [
      "Ceci est un fichier image valide\n"
     ]
    }
   ],
   "source": [
    "fichier=\"image.jpg\"\n",
    "if fichier.endswith(\".jpg\") or fichier.endswith(\".png\") or fichier.endswith(\".gif\"):\n",
    "    print(\"Ceci est un fichier image valide\")"
   ]
  },
  {
   "cell_type": "markdown",
   "metadata": {},
   "source": [
    "✅ Bonne pratique :\n",
    "\n",
    "endswith((\".jpg\", \".png\", \".gif\")) est plus rapide, plus efficace et plus lisible. C’est une bonne pratique pour l’éco-conception logicielle, car elle réduit le nombre d’opérations donc exécution plus rapide et consommation CPU réduite."
   ]
  },
  {
   "cell_type": "code",
   "execution_count": 3,
   "metadata": {},
   "outputs": [
    {
     "name": "stdout",
     "output_type": "stream",
     "text": [
      "Ceci est un fichier image valide\n"
     ]
    }
   ],
   "source": [
    "fichier=\"image.jpg\"\n",
    "if fichier.endswith((\".jpg\", \".png\", \".gif\")):\n",
    "    print(\"Ceci est un fichier image valide\")"
   ]
  },
  {
   "cell_type": "markdown",
   "metadata": {},
   "source": [
    "### ECO-REGLE \"find2in\". Ne pas utiliser `find()`\n",
    "❌ Pratique de codage non éco-responsable :"
   ]
  },
  {
   "cell_type": "code",
   "execution_count": 8,
   "metadata": {},
   "outputs": [
    {
     "name": "stdout",
     "output_type": "stream",
     "text": [
      "Trouvé\n"
     ]
    }
   ],
   "source": [
    "texte=\"Une erreur s'est produite\"\n",
    "if texte.find(\"erreur\") != -1:\n",
    "    print(\"Trouvé\")"
   ]
  },
  {
   "cell_type": "markdown",
   "metadata": {},
   "source": [
    "✅ Codage éco-responsable : \n",
    "\n",
    "`in` est optimisé en interne pour être plus rapide dans les recherches booléennes, alors que `find()` effectue une opération similaire sous le capot mais avec un traitement supplémentaire pour renvoyer un index (de la première occurrence du sous-texte ou -1 si absent) qui est inutile dans la majorité des cas. Par ailleur, avec in, pas besoin de comparer avec -1, ce qui simplifie le code."
   ]
  },
  {
   "cell_type": "code",
   "execution_count": 10,
   "metadata": {},
   "outputs": [
    {
     "name": "stdout",
     "output_type": "stream",
     "text": [
      "Trouvé\n"
     ]
    }
   ],
   "source": [
    "texte=\"Une erreur s'est produite\"\n",
    "if \"erreur\" in texte:\n",
    "    print(\"Trouvé\")"
   ]
  },
  {
   "cell_type": "markdown",
   "metadata": {},
   "source": [
    "### ECO-REGLE \"replace2re.sub\". Ne pas utiliser `replace()` pour retirer des caractères un par un\n",
    "❌ Pratique de codage non éco-responsable:"
   ]
  },
  {
   "cell_type": "code",
   "execution_count": 5,
   "metadata": {},
   "outputs": [
    {
     "data": {
      "text/plain": [
       "'Bonjour kiran'"
      ]
     },
     "execution_count": 5,
     "metadata": {},
     "output_type": "execute_result"
    }
   ],
   "source": [
    "texte = \"Bonjour, kiran!\"\n",
    "texte = texte.replace(\",\", \"\").replace(\"!\", \"\")\n",
    "texte"
   ]
  },
  {
   "cell_type": "markdown",
   "metadata": {},
   "source": [
    "✅ Utiliser `re.sub()` qui réalise un seul passage sur la chaîne, ce qui est plus rapide et plus économe en ressources. En effet tous les remplacements sont traités en une seule opération, réduisant la charge CPU et mémoire."
   ]
  },
  {
   "cell_type": "code",
   "execution_count": 6,
   "metadata": {},
   "outputs": [
    {
     "data": {
      "text/plain": [
       "'Bonjour kiran'"
      ]
     },
     "execution_count": 6,
     "metadata": {},
     "output_type": "execute_result"
    }
   ],
   "source": [
    "import re\n",
    "texte = \"Bonjour, kiran!\"\n",
    "texte = re.sub(r\"[,!]\", \"\", \"Bonjour, kiran!\")\n",
    "texte"
   ]
  },
  {
   "cell_type": "markdown",
   "id": "08fffe67",
   "metadata": {},
   "source": []
  },
  {
   "cell_type": "markdown",
   "id": "a63f224a",
   "metadata": {},
   "source": [
    "### REGLE \"lower2casefold\" : Ne pas vérifier la casse de sous-chaînes manuellement\n",
    "❌ Mauvaise pratique :"
   ]
  },
  {
   "cell_type": "code",
   "execution_count": 20,
   "id": "e3b8a848",
   "metadata": {},
   "outputs": [
    {
     "name": "stdout",
     "output_type": "stream",
     "text": [
      "Trouvé\n"
     ]
    }
   ],
   "source": [
    "texte = \"Python est un langage de programmation\"\n",
    "if \"python\" in texte.lower():\n",
    "    print(\"Trouvé\")"
   ]
  },
  {
   "cell_type": "markdown",
   "id": "9417f66e",
   "metadata": {},
   "source": [
    "✅ Bonne Pratique : \n",
    "\n",
    "Au lieu d'utiliser `lower()`, utilisez `casefold()` pour des comparaisons plus robustes. En effet, si vous travaillez avec des textes multilingues ou des comparaisons globales, casefold() est plus sûr car il suit les normes Unicode pour une casse insensible.\n",
    "\n",
    "_💡 Note : il s'agit ici plus d'une règle de bonne pratique que d'une ecorègle !_"
   ]
  },
  {
   "cell_type": "code",
   "execution_count": 2,
   "id": "0a5ddf39",
   "metadata": {},
   "outputs": [
    {
     "name": "stdout",
     "output_type": "stream",
     "text": [
      "Trouvé\n"
     ]
    }
   ],
   "source": [
    "texte = \"Python est un langage de programmation\"\n",
    "if \"python\" in texte.casefold():\n",
    "    print(\"Trouvé\")"
   ]
  }
 ],
 "metadata": {
  "kernelspec": {
   "display_name": "Python 3",
   "language": "python",
   "name": "python3"
  },
  "language_info": {
   "codemirror_mode": {
    "name": "ipython",
    "version": 3
   },
   "file_extension": ".py",
   "mimetype": "text/x-python",
   "name": "python",
   "nbconvert_exporter": "python",
   "pygments_lexer": "ipython3",
   "version": "3.9.6"
  }
 },
 "nbformat": 4,
 "nbformat_minor": 5
}
